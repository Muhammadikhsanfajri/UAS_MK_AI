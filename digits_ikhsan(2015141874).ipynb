{
 "cells": [
  {
   "cell_type": "code",
<<<<<<< HEAD
   "execution_count": 2,
   "metadata": {},
   "outputs": [],
   "source": [
    "import numpy as np\n",
    "import matplotlib.pyplot as plt\n",
    "%matplotlib inline \n",
    "import seaborn as sns"
   ]
  },
  {
   "cell_type": "code",
   "execution_count": 3,
=======
   "execution_count": 10,
>>>>>>> 95c9ce442c8372a22bea1bc981c5e11eba59095d
   "metadata": {},
   "outputs": [],
   "source": [
    "from sklearn.datasets import load_digits\n",
<<<<<<< HEAD
    "from sklearn.model_selection import train_test_split\n",
    "from sklearn.neural_network import MLPClassifier\n",
    "from sklearn.model_selection import train_test_split\n",
    "from sklearn.metrics import accuracy_score\n",
    "from sklearn.metrics import confusion_matrix\n",
    "from sklearn import datasets\n",
    "from mpl_toolkits.mplot3d import Axes3D\n",
    "from sklearn.decomposition import PCA"
=======
    "from sklearn.model_selection import train_test_split"
>>>>>>> 95c9ce442c8372a22bea1bc981c5e11eba59095d
   ]
  },
  {
   "cell_type": "code",
<<<<<<< HEAD
   "execution_count": 4,
   "metadata": {},
   "outputs": [],
   "source": [
    "digits = load_digits()\n",
    "iris = datasets.load_iris()"
=======
   "execution_count": 2,
   "metadata": {},
   "outputs": [],
   "source": [
    "digits = load_digits()\n"
>>>>>>> 95c9ce442c8372a22bea1bc981c5e11eba59095d
   ]
  },
  {
   "cell_type": "code",
<<<<<<< HEAD
   "execution_count": 5,
   "metadata": {},
   "outputs": [
    {
     "data": {
      "text/plain": [
       "['sepal length (cm)',\n",
       " 'sepal width (cm)',\n",
       " 'petal length (cm)',\n",
       " 'petal width (cm)']"
      ]
     },
     "execution_count": 5,
     "metadata": {},
     "output_type": "execute_result"
    }
   ],
   "source": [
    "iris.feature_names"
   ]
  },
  {
   "cell_type": "code",
   "execution_count": 6,
=======
   "execution_count": 3,
>>>>>>> 95c9ce442c8372a22bea1bc981c5e11eba59095d
   "metadata": {},
   "outputs": [
    {
     "data": {
      "text/plain": [
       "(1797, 64)"
      ]
     },
<<<<<<< HEAD
     "execution_count": 6,
=======
     "execution_count": 3,
>>>>>>> 95c9ce442c8372a22bea1bc981c5e11eba59095d
     "metadata": {},
     "output_type": "execute_result"
    }
   ],
   "source": [
    "digits.data.shape"
   ]
  },
  {
   "cell_type": "code",
<<<<<<< HEAD
   "execution_count": 7,
=======
   "execution_count": 4,
>>>>>>> 95c9ce442c8372a22bea1bc981c5e11eba59095d
   "metadata": {},
   "outputs": [
    {
     "data": {
      "text/plain": [
       "array([ 0.,  0., 10., 14., 11.,  3.,  0.,  0.,  0.,  4., 16., 13.,  6.,\n",
       "       14.,  1.,  0.,  0.,  4., 16.,  2.,  0., 11.,  7.,  0.,  0.,  8.,\n",
       "       16.,  0.,  0., 10.,  5.,  0.,  0.,  8., 16.,  0.,  0., 14.,  4.,\n",
       "        0.,  0.,  8., 16.,  0.,  1., 16.,  1.,  0.,  0.,  4., 16.,  1.,\n",
       "       11., 15.,  0.,  0.,  0.,  0., 11., 16., 12.,  3.,  0.,  0.])"
      ]
     },
<<<<<<< HEAD
     "execution_count": 7,
=======
     "execution_count": 4,
>>>>>>> 95c9ce442c8372a22bea1bc981c5e11eba59095d
     "metadata": {},
     "output_type": "execute_result"
    }
   ],
   "source": [
    "digits.data[30]\n"
   ]
  },
  {
   "cell_type": "code",
<<<<<<< HEAD
   "execution_count": 8,
=======
   "execution_count": 15,
>>>>>>> 95c9ce442c8372a22bea1bc981c5e11eba59095d
   "metadata": {},
   "outputs": [
    {
     "data": {
      "text/plain": [
       "array([0, 1, 2, 3, 4, 5, 6, 7, 8, 9])"
      ]
     },
<<<<<<< HEAD
     "execution_count": 8,
=======
     "execution_count": 15,
>>>>>>> 95c9ce442c8372a22bea1bc981c5e11eba59095d
     "metadata": {},
     "output_type": "execute_result"
    }
   ],
   "source": [
    "digits.target_names"
   ]
  },
  {
   "cell_type": "code",
<<<<<<< HEAD
   "execution_count": 9,
=======
   "execution_count": 8,
>>>>>>> 95c9ce442c8372a22bea1bc981c5e11eba59095d
   "metadata": {},
   "outputs": [
    {
     "data": {
      "text/plain": [
       "(1797,)"
      ]
     },
<<<<<<< HEAD
     "execution_count": 9,
=======
     "execution_count": 8,
>>>>>>> 95c9ce442c8372a22bea1bc981c5e11eba59095d
     "metadata": {},
     "output_type": "execute_result"
    }
   ],
   "source": [
    "digits.target.shape"
   ]
  },
  {
   "cell_type": "code",
<<<<<<< HEAD
   "execution_count": 10,
=======
   "execution_count": 7,
>>>>>>> 95c9ce442c8372a22bea1bc981c5e11eba59095d
   "metadata": {},
   "outputs": [
    {
     "data": {
      "text/plain": [
       "0"
      ]
     },
<<<<<<< HEAD
     "execution_count": 10,
=======
     "execution_count": 7,
>>>>>>> 95c9ce442c8372a22bea1bc981c5e11eba59095d
     "metadata": {},
     "output_type": "execute_result"
    }
   ],
   "source": [
    "digits.target[30]"
   ]
  },
  {
   "cell_type": "code",
<<<<<<< HEAD
   "execution_count": 11,
=======
   "execution_count": 6,
>>>>>>> 95c9ce442c8372a22bea1bc981c5e11eba59095d
   "metadata": {},
   "outputs": [
    {
     "data": {
      "text/plain": [
<<<<<<< HEAD
       "<matplotlib.image.AxesImage at 0x2e4bd21ba90>"
      ]
     },
     "execution_count": 11,
=======
       "<matplotlib.image.AxesImage at 0x113402f98>"
      ]
     },
     "execution_count": 6,
>>>>>>> 95c9ce442c8372a22bea1bc981c5e11eba59095d
     "metadata": {},
     "output_type": "execute_result"
    },
    {
     "data": {
      "text/plain": [
       "<Figure size 432x288 with 0 Axes>"
      ]
     },
     "metadata": {},
     "output_type": "display_data"
    },
    {
     "data": {
<<<<<<< HEAD
      "image/png": "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\n",
=======
      "image/png": "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\n",
>>>>>>> 95c9ce442c8372a22bea1bc981c5e11eba59095d
      "text/plain": [
       "<Figure size 288x288 with 1 Axes>"
      ]
     },
<<<<<<< HEAD
     "metadata": {
      "needs_background": "light"
     },
=======
     "metadata": {},
>>>>>>> 95c9ce442c8372a22bea1bc981c5e11eba59095d
     "output_type": "display_data"
    }
   ],
   "source": [
    "import matplotlib.pyplot as plt \n",
    "plt.gray() \n",
    "plt.matshow(digits.images[30]) \n"
   ]
  },
  {
   "cell_type": "code",
<<<<<<< HEAD
   "execution_count": 12,
=======
   "execution_count": 11,
>>>>>>> 95c9ce442c8372a22bea1bc981c5e11eba59095d
   "metadata": {},
   "outputs": [],
   "source": [
    "X = digits.data\n",
    "y = digits.target\n",
    "# Membagi data training dan testing(80:20)\n",
    "x_train, x_test, y_train, y_test = train_test_split(X,y, test_size= 0.2, random_state=1)"
   ]
  },
  {
   "cell_type": "code",
<<<<<<< HEAD
   "execution_count": 13,
=======
   "execution_count": 12,
>>>>>>> 95c9ce442c8372a22bea1bc981c5e11eba59095d
   "metadata": {},
   "outputs": [
    {
     "data": {
      "text/plain": [
       "(1437, 64)"
      ]
     },
<<<<<<< HEAD
     "execution_count": 13,
=======
     "execution_count": 12,
>>>>>>> 95c9ce442c8372a22bea1bc981c5e11eba59095d
     "metadata": {},
     "output_type": "execute_result"
    }
   ],
   "source": [
    "x_train.shape"
   ]
  },
  {
   "cell_type": "code",
<<<<<<< HEAD
   "execution_count": 14,
=======
   "execution_count": 13,
>>>>>>> 95c9ce442c8372a22bea1bc981c5e11eba59095d
   "metadata": {},
   "outputs": [
    {
     "data": {
      "text/plain": [
       "(360, 64)"
      ]
     },
<<<<<<< HEAD
     "execution_count": 14,
     "metadata": {},
     "output_type": "execute_result"
    }
   ],
   "source": [
    "x_test.shape "
   ]
  },
  {
   "cell_type": "code",
   "execution_count": 15,
   "metadata": {},
   "outputs": [],
   "source": [
    "clf = MLPClassifier(hidden_layer_sizes=(69,69,69),  max_iter=60, alpha=0.0001,activation='identity',\n",
    "                     solver='adam', verbose=10,  random_state=21,tol=0.000000001)"
   ]
  },
  {
   "cell_type": "code",
   "execution_count": 17,
   "metadata": {},
   "outputs": [
    {
     "name": "stdout",
     "output_type": "stream",
     "text": [
      "Iteration 1, loss = 9.65040005\n",
      "Iteration 2, loss = 3.41465921\n",
      "Iteration 3, loss = 1.42290147\n",
      "Iteration 4, loss = 0.79329684\n",
      "Iteration 5, loss = 0.53438152\n",
      "Iteration 6, loss = 0.37418218\n",
      "Iteration 7, loss = 0.30587151\n",
      "Iteration 8, loss = 0.25522924\n",
      "Iteration 9, loss = 0.22056660\n",
      "Iteration 10, loss = 0.19941172\n",
      "Iteration 11, loss = 0.18065442\n",
      "Iteration 12, loss = 0.16589592\n",
      "Iteration 13, loss = 0.15101838\n",
      "Iteration 14, loss = 0.15483163\n",
      "Iteration 15, loss = 0.13927065\n",
      "Iteration 16, loss = 0.12710819\n",
      "Iteration 17, loss = 0.11642249\n",
      "Iteration 18, loss = 0.10448083\n",
      "Iteration 19, loss = 0.09570899\n",
      "Iteration 20, loss = 0.08970198\n",
      "Iteration 21, loss = 0.08696888\n",
      "Iteration 22, loss = 0.08425669\n",
      "Iteration 23, loss = 0.07960356\n",
      "Iteration 24, loss = 0.07863329\n",
      "Iteration 25, loss = 0.07911054\n",
      "Iteration 26, loss = 0.07364602\n",
      "Iteration 27, loss = 0.06671373\n",
      "Iteration 28, loss = 0.06506819\n",
      "Iteration 29, loss = 0.06736192\n",
      "Iteration 30, loss = 0.06214133\n",
      "Iteration 31, loss = 0.05906831\n",
      "Iteration 32, loss = 0.05677342\n",
      "Iteration 33, loss = 0.05628659\n",
      "Iteration 34, loss = 0.05333553\n",
      "Iteration 35, loss = 0.05057737\n",
      "Iteration 36, loss = 0.05063800\n",
      "Iteration 37, loss = 0.05036716\n",
      "Iteration 38, loss = 0.04786867\n",
      "Iteration 39, loss = 0.04623778\n",
      "Iteration 40, loss = 0.04370556\n",
      "Iteration 41, loss = 0.04271678\n",
      "Iteration 42, loss = 0.04056848\n",
      "Iteration 43, loss = 0.04169442\n",
      "Iteration 44, loss = 0.03977252\n",
      "Iteration 45, loss = 0.03962382\n",
      "Iteration 46, loss = 0.03848270\n",
      "Iteration 47, loss = 0.03943459\n",
      "Iteration 48, loss = 0.03868530\n",
      "Iteration 49, loss = 0.03543401\n",
      "Iteration 50, loss = 0.03309791\n",
      "Iteration 51, loss = 0.03231960\n",
      "Iteration 52, loss = 0.03183425\n",
      "Iteration 53, loss = 0.03084742\n",
      "Iteration 54, loss = 0.03006757\n",
      "Iteration 55, loss = 0.02950477\n",
      "Iteration 56, loss = 0.03056342\n",
      "Iteration 57, loss = 0.03152151\n",
      "Iteration 58, loss = 0.02957275\n",
      "Iteration 59, loss = 0.02778177\n",
      "Iteration 60, loss = 0.02711802\n"
     ]
    },
    {
     "name": "stderr",
     "output_type": "stream",
     "text": [
      "c:\\users\\user\\appdata\\local\\programs\\python\\python37\\lib\\site-packages\\sklearn\\neural_network\\multilayer_perceptron.py:562: ConvergenceWarning: Stochastic Optimizer: Maximum iterations (60) reached and the optimization hasn't converged yet.\n",
      "  % self.max_iter, ConvergenceWarning)\n"
     ]
    }
   ],
   "source": [
    "clf.fit(x_train, y_train)\n",
    "y_pred = clf.predict(x_test)"
   ]
  },
  {
   "cell_type": "code",
   "execution_count": 18,
   "metadata": {},
   "outputs": [],
   "source": [
    "loss_values = clf.loss_curve_\n"
   ]
  },
  {
   "cell_type": "code",
   "execution_count": 19,
   "metadata": {},
   "outputs": [
    {
     "data": {
      "text/plain": [
       "[<matplotlib.lines.Line2D at 0x2e4bc19ad68>]"
      ]
     },
     "execution_count": 19,
     "metadata": {},
     "output_type": "execute_result"
    },
    {
     "data": {
      "image/png": "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\n",
      "text/plain": [
       "<Figure size 432x288 with 1 Axes>"
      ]
     },
     "metadata": {
      "needs_background": "light"
     },
     "output_type": "display_data"
    }
   ],
   "source": [
    "plt.plot(loss_values) "
   ]
  },
  {
   "cell_type": "code",
   "execution_count": 20,
   "metadata": {},
   "outputs": [
    {
     "data": {
      "text/plain": [
       "0.97"
      ]
     },
     "execution_count": 20,
     "metadata": {},
     "output_type": "execute_result"
    }
   ],
   "source": [
    "round(accuracy_score(y_test, y_pred),2)"
   ]
  },
  {
   "cell_type": "code",
   "execution_count": 21,
   "metadata": {},
   "outputs": [
    {
     "data": {
      "text/plain": [
       "array([[43,  0,  0,  0,  0,  0,  0,  0,  0,  0],\n",
       "       [ 0, 33,  0,  0,  1,  0,  0,  0,  0,  1],\n",
       "       [ 0,  0, 35,  0,  0,  0,  0,  1,  0,  0],\n",
       "       [ 0,  0,  0, 41,  0,  0,  0,  0,  0,  0],\n",
       "       [ 0,  0,  0,  0, 38,  0,  0,  0,  0,  0],\n",
       "       [ 0,  0,  0,  0,  0, 29,  0,  0,  0,  1],\n",
       "       [ 0,  0,  0,  0,  0,  0, 37,  0,  0,  0],\n",
       "       [ 0,  0,  1,  1,  1,  0,  0, 33,  0,  1],\n",
       "       [ 0,  0,  0,  0,  0,  2,  0,  0, 27,  0],\n",
       "       [ 0,  0,  0,  1,  0,  0,  0,  0,  0, 33]], dtype=int64)"
      ]
     },
     "execution_count": 21,
=======
     "execution_count": 13,
>>>>>>> 95c9ce442c8372a22bea1bc981c5e11eba59095d
     "metadata": {},
     "output_type": "execute_result"
    }
   ],
   "source": [
<<<<<<< HEAD
    "cm = confusion_matrix(y_test, y_pred)\n",
    "cm "
   ]
  },
  {
   "cell_type": "code",
   "execution_count": 22,
   "metadata": {},
   "outputs": [
    {
     "data": {
      "image/png": "iVBORw0KGgoAAAANSUhEUgAAAVoAAAD8CAYAAAA2Y2wxAAAABHNCSVQICAgIfAhkiAAAAAlwSFlzAAALEgAACxIB0t1+/AAAADl0RVh0U29mdHdhcmUAbWF0cGxvdGxpYiB2ZXJzaW9uIDIuMi4zLCBodHRwOi8vbWF0cGxvdGxpYi5vcmcvIxREBQAAIABJREFUeJzt3Xl8FPX9x/HXZ3MAgYDhFEEu8UDrDRaqxQuPeqBtRbG1RmoNtrZqFemtVX/VCmqUWqtRtB4ol9ZSaxFU8IYICBUF5ZAgCIJYIBAIye7n98duaLRJdjeZmcx+83k+HvNgs5vMe2YyfPPd735nPqKqGGOM8U+kuTfAGGNcZw2tMcb4zBpaY4zxmTW0xhjjM2tojTHGZ9bQGmOMz6yhNcYYn1lDa4wxPrOG1hhjfJbte8L7zwRy6Vmfs24IIsYY46M1ZaulyStJp8057LtNz0uB9WiNMcZn1tAaY4zP/B86MMaYAGk0mvL3BjJugDW0xhjXRKubewv+hw0dGGOMz6xHa4xxisZS79EGNXQQmh5tNBrj/Ov/xOg/PAbAr//8DMN/PoFzfz6Bq8dNYueuSs8zTzxxKC+/8hJzX32FH//4Ss/X3xxZLu6TZWVOTtBZmSI0De3j/3yLA3p22fv1r0edzYziq/lH8dV077IPk/41z9O8SCTCLbfezGWFozht2BkMH34u/Q/s72lG0Fku7pNlZU5O0Fn1ikZTXwKStKEVkUNE5BciMkFE7k08HuDlRmz8fBtzFy7ngmGD9j7XLq81AKrK7j1VXsYBcNRRR1K2poxPPvmEqqoq/vGP5zn9tNM8zwkyy8V9sqzMyQk6qz4arU55CUqDDa2I/AKYTHwooxR4J/H4aRH5pVcbcdsjz3PDpd8iIl8eMfnVn6Zz/A9vY/X6zfzg7CFexQHQbd99+XTDhr1fb9iwgW77dvM0I+gsF/fJsjInJ+isTJKsR3s5MEhV/6iqTyaWPwLHJV6rk4gUicgCEVlQMm12gwFzFiynY4d2fO2AHv/z2u0/u4DXH/4VB/ToygtvvJd8b9JQ1yC4X4Uqg8pycZ8sK3Nygs6qV7Q69SUgyRraGLBfHc93T7xWJ1UtUdWBqjqwaETDbxsWLS/jlXeWccrocVx392TmvbeaMfdM3ft6VlaEs044nFnzlibZ1PRs3LiR/bp33/t19+7d2fTZJk8zgs5ycZ8sK3Nygs4Kiohkici7IvJ84uu+IjJfRFaIyBQRyU22jmQN7bXAyyLyLxEpSSwzgZeBa5q+C3D9JWfw2sO/5JUHx3L3dSMZfHg/xl8zgrINW4D4X8M57yynX48uSdaUniVL/k2fvn3ouX9PcnJyOPfcc5g9+yVPM4LOcnGfLCtzcoLOqo/GqlNeUnQNsKzW13cAxap6IPAfGnh3X6PBebSqOlNEDiI+VNCD+DuDdcA7qurbR3aqyi8mTGPnrkpUlYP7dOfm0ed5mhGNRrnxxt/z+OOPkZUVYerUaaxYscLTjKCzXNwny8qcnKCzGtgIz1YlIj2Bs4E/ANeJiACnAN9LfMtjwO+BvzS4Ht/HT+w2icaYFHlxm8TqOfek3OZkn3xtg3kiMh24HcgHxgCXAfNUtX/i9f2Bf6nq1xpaT2jm0RpjjBfSmd5V+4P7xFJUsx4ROQfYpKoLa62+zs/7km2TXYJrjGmxVLUEKKnn5eOB4SJyFtAaaA/cA+wjItmqWg30BD5NlmM9WmOMWzya3qWqv1LVnqraBxgJvKKq3wfmABckvq0Q+HuyTbKG1hhj0vML4h+MrQQ6AROT/YANHRhjnKIx7ydEqepcYG7i8WriM7FSZg2tMcYpQd7DIFW+N7RBTbt69/K+geQAHD3x48CyghXc3YwgK8As0zRBnhdush6tMcYtIezR2odhxhjjM+vRGmOc4seHYU1lDa0xxi02dGCMMS1P6BpaXwu7ZeWQf/mfyS8qof2VE2l9YiEAeeeOIb+ohPzRD9H2gpsgp7W3ubhZhG/c+PEsWLiQF2fN8jUH3C0uaOeF9zKulE3QfC/sFq2i/PHrKS8pYntJETn9B5HVYwAVL95PeUkR5Q9eQWz7Jlodd753mbhZhA9g+rRpFBYW+rb+Gq4WF7TzouUIVUMbSGG3qt3xfyPZ8QWFPRV7X5bs3BTuxZMeF4vwAZSWlrJt61bf1l/D1eKCdl74JANL2QQqkMJuEiG/6EH2GfMM1asXEl2/HIC84TfQ4brpRDr3orL0b55GuliEL0iuFhe088IfGoumvASl0Q2tiIzyckMgoMJuGqO8ZDTbii8iq8chRLr0AaBixni2FV9IdHMZuYed5Gmki0X4guRqcUE7L3ziWI/25vpeqH0z3fId21NeYZCF3bRyJ9VrFpPTf1CtJ2NUfTCXnAFDPc1ysQhfkFwtLmjnRcvRYEMrIv+uZ3kPqPe9R+0quPnt2qe8MX4XdpO8DkirtvEvsnPJ7ncssS3riBT8t9BvzkFDiG1Z61kmuFmEL0iuFhe088IfGo2mvAQl2QUL3YAziFd6rE2At7zeGL8Lu0XadSLvvLEQyUJE2PPBq1R9NI/8UfcguXkgQvVnq6j4572eZYKbRfgAJkyYwOAhQygoKODtefMoLi5m6pQpnue4WlzQzouWo8HijCIyEXhUVd+o47WnVPV7dfzYl/Tp3S+QwSC7e5cX7O5dpi7BnRdrysqaXJxxx0OXpdzmtLvir03OS0WycuP11itPpZE1xpjAxewSXGOMaXHspjLGGKcE+SFXqqxHa4wxPrMerTHGLSHs0VpDa4xxSosszhiUIKdcvTdmYGBZh9+5ILAsm3LVVK5Oj7PzoqmcaWiNMQYI5dCBfRhmjDE+sx6tMcYpNr3LGGNaIOvRGmOcYuXGjTHGbzZ0kJwzFUizcsi78DbyLh5H3vfuIvfrIwBoPewntL30PvJGjiNv5DginXt7GuvM8WsBWVZFuOUIVUPrVAXSaBUVf7uZiqfHUjF5LNm9jiLS7UAAKt98gorJ8edjn5d5FunU8WsBWVZF2B9hvPF30oZWRA4RkVNFpN1Xnj/T641xrgJpVWX830hWfPG6vO5XOHf8HM+yKsLhJiKtRaRURJaIyPsicnPi+Uki8qGILBWRR0QkJ9m6kpWyuRr4O/AzYKmInFfr5duashN1ca4CqQh5I8fR7vKHqf7kPWKfrQSg1ZCLybt4PK1OKEyUPPeGc8fP8aygtLTjp9FYyksSlcApqnokcBRwpogMBiYBhwCHA22AHyVbUbL/5VcAx6rqDhHpA0wXkT6qei91F9dsEucqkKpSMXks5ObR5uwxRDruT+VbT6EVWyGSTetTRpN77HnseecZT+KcO36OZwWlxR2/5A1oSjS+4TsSX+YkFlXVF2q+R0RKgZ7J1pVs6CBLVXckQtcAJwHfEpG7aaChzYQquIFWBt1TQXT9B2T1PireyALEqqlaNoesbt6NX7l6/FzNCoodv8YTkSwRWQxsAmar6vxar+UAPwBmJltPsoZ2o4gcVfNFotE9B+hMvNtcp7BWwQ0yS1rnQ25e/IusHLL2P5zYf9Yjefvs/Z7sfoOIfvGJZ5kuHb+WkBWUlnb80vkwrHanMLEUfWldqlFVPYp4r/U4EflarZfvB15T1deTbVOyoYNLgS/dc0xVq4FLReTBlPY6DS5VIJW2BbQ57SqQSLy67oq3ia5ZRJvzb0TatAeB2OYyKueWeJbp0vFrCVlWRbj5qWoJkPQ/oapuFZG5wJnEP6+6CegCjE4lp8EquF4IqgpukNy9TaJpGldvkxicNWWrm/zZz+djj0+5zek87s2GhkC7AFWJRrYNMAu4A9gX+CFwqqruSiXHrgwzxjglhdkEqeoOPCYiWcSHWaeq6vMiUg2UAW+LCMCzqnpLQyuyhtYYY+qgqv8Gjq7j+bTbTWtojTFO8bBH6xlraI0xTtFY+D4WCtW9DowxxkXWozXGOEWj4evRWkPbCEFOuVo1+VeBZR0w8vbAstzk5pSrTKPhux2tDR0YY4zfrEdrjHFKGIcOrEdrjDE+sx6tMcYpsfBNo7UerTHG+M16tMYYp9isgxS4Wq3T76xoLMZ3bnycHxc/C8CklxZxxtiHOfSyO/lPeYXneeDW8XM9y8V9qo9GU1+CEqqG1tVqnUFkPTFrEQfs13Hv10cf2INHbhjBfp1Sv/F6Olw7fi5nubhPmSaVKrjHicigxONDReQ6ETnLj41xtVqn31kbvyjn1SWr+e7QI/Y+d2jvbvTo0sGzjK9y6fi5nuXiPjUkFkt9CUqyKrg3AROAv4jI7cB9QDvglyLyG683xtVqnX5n/fGpVxhz0VAinpfLrJ9Lx8/1LBf3KdMk+zDsAuJldlsBG4GeqrpdRMYD84E/1PVDibo7RQAdO3Yi1bphrlbr9DNr7uJVdGyfx2F99qV02VpP1pkKV45fS8hycZ8aEsYPw5I1tNWqGgUqRGSVqm4HUNVdIlJvx7t2HZ50Stm4Wq3Tz6xFK9Yz591VvLbkYyqrqtm5ew9jH/wn40af7cn66+PK8WsJWS7uU0NisQDf2qUo2RjtHhFJlHLl2JonRaQD4PkIh6vVOv3Mum7EUOYUX8lLdxVx14/P4esDevneyII7x68lZLm4T5kmWY92qKpWAqhq7YY1Byj0emNcrdbZHJVBn5i9iEdeKOXzbTs5/3ePMfSIftz6wzM8W7+rx8/FLBf3qSFhvDLMquCGnN0m0bQkXlTBXXHBoJTbnAOnvxPIOINdGWaMcUomfhhmjDEZJRM/DDPGGNNE1qM1xjglFsKhA+vRGmOMz6xHa4xxShjHaK2hDbkgp1wtv2dkYFmHXDs5sCzTsmgIG1obOjDGGJ9Zj9YY45QwXhlmPVpjjPGZ9WiNMU4J44dh1qM1xhifWUNrjHFKVXUk5aUhIrK/iMwRkWUi8r6IXPOV18eIiIpI52TbFLqG1tVqnS5UO62sivK9+15hxD0v8e27Z3H/7A8AmL9yExdNeJkL732Jwr/MZe3nOzzNBTd/V0FmubhPAagGrlfVAcBg4CoRORTijTBwGpBSWZNQNbSuVut0pdppbnaEh68YyrRrhzH1mmG8+dFG/r12C//33LvcPnIQU68ZxllH7c9Dryz3LBPc/F0FmeXiPjUkFpOUl4ao6gZVXZR4XA4sA3okXi4GxgIp3ZIx7YZWRB5P92dS5Wq1TleqnYoIea3in59WR2NURxUQBNixuxqAHbur6NK+tWeZ4ObvKsgsF/fJKyJSJCILai1F9XxfH+BoYL6IDAfWq+qSVHManHUgIjO++hRwsojsA6Cqw1MNSkVdFTSPOvooLyOczgoiJxpTLv7Ty6zdsoOLhhzAEb068vvvHstP//omrbKzaNc6myd+crKnmS7+roLMcnGfGhLT1Gcd1K5vWB8RaQc8A1xLfDjhN8Dp6WxTsuldPYEPgIeJd5EFGAjclWTDrApuM2QFkZMVEaZeM4ztu/bw8yfmsWLjNp54YwX3XXY8R/TqyF9f/ZA7n/83v7/g2OQrS5GLv6sgs1zcp6CISA7xRnaSqj4rIocDfYElIgLxNnKRiBynqhvrW0+yoYOBwELiLfg2VZ0L7FLVV1X11fp+SFVLVHWgqg5MtZEFd6t1uljttH2bXAb168ybH27kow3bOKJXRwDOOHJ/lqzd4mmWi7+rILNc3KeGxGKpLw2ReEs6EVimqncDqOp7qtpVVfuoah9gHXBMQ40sJGloVTWmqsXAKOA3InIfPl7k4Gq1TleqnX6xo5Ltu/YAsLsqyryVm+jbtT07dlexZnM5AG+v+Iy+XfI9ywQ3f1dBZrm4Tw2JqqS8JHE88APgFBFZnFjOasw2pdRoquo6YISInA1sb0xQKlyt1ulKtdPPy3fz26nvEFMlpnD64T05cUB3bvzOMVz/5DwiIrRvk8PNHg4bgJu/qyCzXNynIKjqG9Q9GlL7e/qksi6rgmv2stskmubmRRXcOYNPTLnNOXneq4FcrxuqebTGGOMiu6mMMcYpKYy9Bs4aWmOMU9KZRxsUGzowxhifWY/WGOOUMA4dWI/WGGN8Zj1as1eQU65eP7ljIDnfnPNFIDluizb3BqQlGsIJpdbQGmOcYh+GGWNMC2Q9WmOMU+zDMGOMaYGsR2uMcUoYPwwLXY/W1SJyVoQvPVkdu9HlFw+w723T2PcPU2h3WvyGNzn7H0jX3z5Ct1sn0/nau5HWbT3NBXeOYXPkAIwbP54FCxfy4qxZvuZkklA1tK4WkbMifOnTaDVbJxez8dcj+OzWUbQ7dQTZ+/Wl46jfsm3afXz2u5HsWjiX/LN+4FkmuHUMg86pMX3aNAoLC31bfzJRJOUlKKFqaF0tImdF+NIX27aFqrIPAdDdFVR/uoasgq5kd+9N5YeLANj9/nzyjj3Fs0xw6xgGnVOjtLSUbVu3+rb+ZKKa+hKUtBpaETlBRK4TkbQKk6WqrsJu3fbt5keUk1ku7hNAVufu5PQ+mD2rllK1bhWtjz4RgDaDhpHV0dtMF49hkPtk6tZgQysipbUeXwHcB+QDN4nIL73eGFeLyFkRvibktGpD55+OY+tTd6G7d/LFI7eQf+oIuv3+CSKt89Bolbd5dTyX8ccwoJywiKaxBCXZrIOcWo+LgNNUdbOI3AnMA/5Y1w81tgquq0XkrAhfI2Vl0emn49j59kx2LZwDQPWGMjbf+VMAsrv1ovWRJ3ga6dwxDDDH1C/Z0EFERApEpBPxsjebAVR1J/H65nVqbBVcV4vIWRG+xun4wxup3vAxO16ctPe5SH5B/IEI7Ydfzs45z3ia6doxDDInLDKxR9uBeLlxAVRE9lXVjSLSjiRFyxrD1SJyVoQvfbkHHknb489mzycr6HZLvKHdNv1+srvtT7tTRwCwa+Ecdr4+w7NMcOsYBp1TY8KECQweMoSCggLenjeP4uJipk6Z4lveVwU5myBVjSrOKCJ5QDdV/TjZ91pxRlMXu3tXJgmu77emrKzJrWTJkael3OYULZkdSKvcqCvDVLUCSNrIGmOMsUtwjTGOCePdc0N1wYIxxrjIerTGGKeEsUdrDa0xxilhbGht6MAYY3xmPVrTLIKadrXs9nMCyQEY8KvnA8sKVlZzb0BaooRvRqn1aI0xxmfWozXGOMXGaI0xxmdR1ZSXZETkERHZJCJLv/L8z0TkQxF5X0TGJVuPNbTGGFO/vwJn1n5CRE4GzgOOUNXDgDuTrcSGDowxTvFy6EBVXxORPl95+sfAH1W1MvE9Se85aT1aY4xJz0HAN0Vkvoi8KiKDkv1A6BpaFyuQBpnl4j75nVVZHeX7D73NhQ+8yXfuf4P756wEYNSj87nwgbe48IG3OO2uuVw7+V1Pc8HOCz9E0ZQXESkSkQW1lqIUIrKBAmAwcAMwVUQavAtYqIYOaqp1XvL9S9m4cSMzZjzH7JdeYuWKlZYVohzXsnKzIjxUOIi83GyqojFGPVrKCQd25tFRX9/7PddPfZeTDu7qSV4NOy/8kc48WlUtAUrSjFgHPKvxe8yWikgM6Axsru8HktUM+7qItE88biMiN4vIP0TkDhHpkObGJeViBdIgs1zcpyCyRIS83HifozqmVEdjX7p19M7Kako//oKTD/G2oKGdFxnrOeAUABE5CMgFPm/oB5INHTwCVCQe30u84sIdiecebcqW1sXFCqRBZrm4T0FlRWPKhQ+8xSnj5zC4XycO77nP3tdeWf4ZX+/biXatvH0DaOeFP7wsZSMiTwNvAweLyDoRuZx4u9gvMeVrMlCoSSooJDtzIqpaUxtsoKoek3j8hogsTmE70+JiBdIgs1zcp6CysiLC1Cu/wfbdVVw35V1Wbiqnf9d8AGYu3ci3j+7haR7YeZEJVPXiel66JJ31JOvRLhWRUYnHS0RkIOztLtdb57n2AHP5ju0pb4yLFUiDzHJxn4LOat86h4G9O/Lmyvg7wa0Ve1i6fhvfPKiL51l2XvjDywsWvJKsof0RcKKIrAIOBd4WkdXAQ4nX6mRVcJsny8V9CiLri5172L473m/YXRVl/sdb6Nu5LQCzP/iMbx7UhVbZ3t9Yxc6LlqPBoQNV3QZcJiL5QL/E969T1c/82BgXK5AGmeXiPgWR9fmOSn733HvEYkpM4fTDujH0oPgMg5lLN/DDE/p6llWbnRf+COPduxpVBTcdVgXXNCe7TWJmWVO2uslVaa8/fGjKbc5d770WSBXc0F2wYIwxrgnVBQvGGNNUsRDOcrAerTHG+Mx6tMYYp4TxwzBraI0xTgljQ2tDB8YY4zPr0TZKGKsSZZpgKqsGOeXq3cv9mW9bl6MnfhxYVqad70Fe8ZUq69EaY4zPrEdrjHFKGMdoraE1xjgljPNoraE1xjgljD1aG6M1xhifWY/WGOMU69GmwMVqnePGj2fBwoW8OGuWbxmuZzlzXmTlkH/5n8kvKqH9lRNpfWIhAHnnjiG/qIT80Q/R9oKbIKe1p7FBHr8gz4tMEaqGtqaC5mWFozht2BkMH34u/Q/sn/FZ06dNo7Cw0Jd1t4Qsp86LaBXlj19PeUkR20uKyOk/iKweA6h48X7KS4oof/AKYts30eq48z2LDPL4QbDnYF1iqikvQUlWBfdqEdk/qI1xtVpnaWkp27Zu9WXdLSHLufOianf830h2fEFhT8XelyU7Fy/f/QZdmTbIc7AuUTTlJSjJerS3AvNF5HUR+YmIeF84qZaWVq3TpMa580Ii5Bc9yD5jnqF69UKi65cDkDf8BjpcN51I515Ulv7Nszg715tfsoZ2NdCTeIN7LPCBiMwUkcJEeZs6NbY4o1XrNHVx7rzQGOUlo9lWfBFZPQ4h0qUPABUzxrOt+EKim8vIPewkz+Ja2rmeicUZVVVjqjpLVS8H9gPuB84k3gjX90ONKs7Y0qp1mtS4el5o5U6q1ywmp/+gWk/GqPpgLjkDhnqWY+d680vW0H7pj6GqVqnqjESt815eb4xV6zR1cem8kLwOSKt4hV2yc8nudyyxLeuIFOy393tyDhpCbMtazzJb2rkeQ1NegpJsHu1F9b2gqrs83hZnq3VOmDCBwUOGUFBQwNvz5lFcXMzUKVMsK0UunReRdp3IO28sRLIQEfZ88CpVH80jf9Q9SG4eiFD92Soq/nmvZ5lBV6YN8hysSxjv3mVVcBsls24bF07B3CYxSHabxKZbU1bW5Kq05x98dMptznMfvhtIFVy7MswY45Qw3lQmVBcsGGOMi6xHa4xxit3rwBhjWiDr0RpjnBLTWHNvwv+whtYY45Qg58emyhraRnFvalLQIgFNGYoF+LsKcsrVrGM6BZZ1+qItgWWFjYj8HPgR8dv8vAeMUtXd6a7HxmiNMU7x6l4HItIDuBoYqKpfI97DGtmYbbKG1hhj6pcNtBGRbCAP+LQxK7GG1hjjlHTudVD7ToOJpahmPaq6HrgTWAtsALapaqPKRtgYrTHGKelcGaaqJUBJXa+JSAFwHtAX2ApME5FLVPXJdLfJerTGGFO3YcDHqrpZVauAZ4FvNGZF1qM1xjjFw1m0a4HBIpIH7AJOBRY0ZkWh69E6U+20mbJc3Kfu3bszafJkZr38MjNnz+ayUaN8ywI3jmF2p270vOUv9P7TVHrfO4V9zol/WN79+tvodfcket09ib4P/p1ed0/yLLNGkMfPT6o6H5gOLCI+tStCPcMMyYTqNomRSIQ5c1/mku9fysaNG5kx4zl+dvU1rFyx0vPtcjErk/YpnXm0Xbp2pWvXrry/dClt27ZlxvPPM7qoiJUp3FM13Xm0mXIMk82jzSroRHZBZypXf4i0zqP3XY/z6e03sGfdf+f6dr7sWmIVO/hi6sMNriudebRNPX5rylY3+baFJ/Q7JOU2543VywO5TWKyKri5InKpiAxLfP09EblPRK4SkRyvN8a5aqcBZ7m4TwCbN23i/aVLAdi5cycrV65k327+FBd05RhG/7OFytUfAqC7K9izbg3Znb5cWzX/+GGUv/6iJ3k1gq64W5cwVlhINnTwKHA2cI2IPAGMAOYDg4CG/ww2gnPVTgPOcnGfvqpHz54cdthhLF682Jf1u3gMs7t0p1Xfg9n90ft7n2tz6NFEt26hasMnnmaFoeJuTDXlJSjJPgw7XFWPSEzWXQ/sp6pREXkSWFLfDyXmohUBdOzYiVQLNDpX7TTgLBf3qba8vDzuf+ABbr3lFnbs2OFLhmvHUFq3Yb9f3MHmR+4mtmvn3ufzv3k65a83akpow3l1POdyxd1UJevRRkQkF8gnflVEh8TzrYB6hw6sCm7zZLm4TzWys7O5/4EHmPHcc7w4c6ZvOU4dw6ws9ht7B9tfm8mOeXP++3wki3aDT6b8zdneZSWEoeJuJg4dTASWA4uB3xCfsPsQ8A4w2euNcanaaXNkubhPNf44bhyrVq5k4sOej1h9iUvHcN+rfseedWvYOuOpLz2fd+Rx7FlfRvUW7xvAllZxN1UNDh2oarGITEk8/lREHic+ifchVS31emNcqnbaHFku7hPAwIED+c53v8vyZct4/oUXALhz/HjmzpmT5CfT58oxbD3gSNqffDaVa1bsncK15ck/s3PRW+SfcLrnH4LVCLribl3CeJvEUE3vMi2Hi7dJDJKrt0n0YnrXMX36p9zmLFqzsvmndxljjGk6uwTXGOOUMA4dWI/WGGN8Zj1aY4xTrEdrjDEtkPVojTFOCeOFaNbQhl4w06DigpsK5eq0q6AEOeXq3cv7BpblBRs6MMaYFsh6tMYYp4SvP2s9WmOM8Z31aI0xTgnjGK01tMYYp4SvmQ3h0IELhfGaM2vc+PEsWLiQF2d5f1Pnr3Lx+Lma5WtOVg75l/+Z/KIS2l85kdYnFgKQd+4Y8otKyB/9EG0vuAlyWnubm0FC1dBGIhFuufVmLiscxWnDzmD48HPpf2B/y0rD9GnTKCws9GXdtbl6/FzM8j0nWkX549dTXlLE9pIicvoPIqvHACpevJ/ykiLKH7yC2PZNtDrufO8yG6BpLEEJVUPrSmG85swqLS1l29atvqy7NlePn4tZgeRU7Y7/G8mOLyjsqdj7smTnhvM9fUCSNrQicoCIjBGRe0XkLhG5UkQ6JPu5xnCxMF7QWUFx9fi5mBVIjkTIL3qQfcb5RGvkAAAGb0lEQVQ8Q/XqhUTXLwcgb/gNdLhuOpHOvags/Zu3mfXIuFI2InI18ADQmnjl2zbA/sDbInKS1xvjWmG85sgKiqvHz8WsQHI0RnnJaLYVX0RWj0OIdOkDQMWM8WwrvpDo5jJyDzvJ28z6NiWNJSjJerRXAGeq6v8RL2FzqKr+BjgTKK7vh0SkSEQWiMiC8h3bU94YpwrjNVNWUFw9fi5mBblPWrmT6jWLyek/qNaTMao+mEvOgKG+ZGaCVMZoa6aAtSJeDRdVXYsPVXBdKozXXFlBcfX4uZjld47kdUBatY1/kZ1Ldr9jiW1ZR6Rgv73fk3PQEGJb1nqW2ZAw9miTzaN9GHhHROYBQ4E7AESkC/CF1xvjSmG85syaMGECg4cMoaCggLfnzaO4uJipU6Z4nuPq8XMxy++cSLtO5J03FiJZiAh7PniVqo/mkT/qHiQ3D0So/mwVFf+817PMTJO0OKOIHAYMAJaq6vJ0A6w4Y1O5efcukzmCvHtXwY0vN7lYYt/evVNucz4uKwukOGPSK8NU9X3g/QC2xRhjnGSX4BpjnBLGt9ChumDBGGNcZA2tMcbUQ0TOFJEPRWSliPyyseuxhtYY4xhJY2lgLSJZwJ+BbwGHAheLyKGN2SJraI0xjvGmoQWOA1aq6mpV3QNMBs5rzBZZQ2uMcYxnDW0P4JNaX69LPJc232cdrClb3ah5aiJSpKolXm9Pc+VYVmZlubhPLmfVlk6bIyJFQFGtp0pqbXOdt4lozDaFuUdblPxbMirHsjIry8V9cjmrUWrfLiCx1P7DsI74TbRq9AQ+bUxOmBtaY4xpTu8AB4pIXxHJBUYCMxqzIrtgwRhj6qCq1SLyU+BF4tenP5K4UjZtYW5ogxrbCXIMybIyJ8vFfXI5yxeq+gLwQlPXk/SmMsYYY5rGxmiNMcZnoWtovbrkLYWcR0Rkk4gs9SujVtb+IjJHRJaJyPsico2PWa1FpFREliSybvYrK5GXJSLvisjzPuesEZH3RGSxiCzwOWsfEZkuIssTv7MhPuUcnNifmmW7iFzrU9bPE+fDUhF5WkR8q/0tItckct73a38yjqqGZiE+4LwK6AfkAkuIl8/xI2socAzx++z6vV/dgWMSj/OBj3zcLwHaJR7nAPOBwT7u23XAU8DzPh/DNUBnv39XiazHgB8lHucC+wSQmQVsBHr7sO4ewMdAm8TXU4HLfNqPrwFLgTzinwG9BBwYxO8tzEvYerSeXfKWjKq+hg9VIurJ2qCqixKPy4FlNPIKkxSyVFV3JL7MSSy+DMSLSE/gbOKVOJwgIu2J/xGeCKCqe1TV//rtcCqwSlXLfFp/NtBGRLKJN4KNmg+aggHAPFWtUNVq4FXg2z5lZYywNbSeXfIWViLSBziaeE/Tr4wsEVkMbAJmq6pfWfcAY4GYT+uvTYFZIrIwcTWPX/oBm4FHE0MiD4tIWx/zaowEnvZjxaq6HrgTWAtsALap6iw/soj3ZoeKSCcRyQPO4suT/luksDW0nl3yFkYi0g54BrhWVVMvD5wmVY2q6lHEr2Q5TkS+5nWGiJwDbFLVhV6vux7Hq+oxxO+kdJWI+FVSNZv4kNJfVPVoYCfg22cFAInJ8MOBaT6tv4D4O8O+wH5AWxG5xI8sVV1GvLbgbGAm8eG/aj+yMknYGlrPLnkLGxHJId7ITlLVZ4PITLzlnUu8PLzXjgeGi8ga4kM8p4jIkz7kAKCqnyb+3QT8jfgwkx/WAetqvQuYTrzh9dO3gEWq+plP6x8GfKyqm1W1CngW+IZPWajqRFU9RlWHEh+e86e6ZQYJW0Pr2SVvYSIiQnzMb5mq3u1zVhcR2SfxuA3x/2RpF9VMRlV/pao9VbUP8d/TK6rqSy9JRNqKSH7NY+B04m9RPaeqG4FPROTgxFOnAh/4kVXLxfg0bJCwFhgsInmJc/FU4p8T+EJEuib+7QV8B3/3LSOE6sow9fCSt2RE5GngJKCziKwDblLViX5kEe/9/QB4LzF2CvBrjV914rXuwGOJmxZHgKmq6uvUqwB0A/4WbyPIBp5S1Zk+5v0MmJT4Y78aGOVXUGIc8zRgtF8ZqjpfRKYDi4i/jX8Xf6/aekZEOgFVwFWq+h8fszKCXRlmjDE+C9vQgTHGOMcaWmOM8Zk1tMYY4zNraI0xxmfW0BpjjM+soTXGGJ9ZQ2uMMT6zhtYYY3z2/0OgP6EQNzr1AAAAAElFTkSuQmCC\n",
      "text/plain": [
       "<Figure size 432x288 with 2 Axes>"
      ]
     },
     "metadata": {
      "needs_background": "light"
     },
     "output_type": "display_data"
    }
   ],
   "source": [
    "sns.heatmap(cm, center=True,annot=True)\n",
    "plt.show()"
=======
    "x_test.shape"
>>>>>>> 95c9ce442c8372a22bea1bc981c5e11eba59095d
   ]
  }
 ],
 "metadata": {
  "kernelspec": {
   "display_name": "Python 3",
   "language": "python",
   "name": "python3"
  },
  "language_info": {
   "codemirror_mode": {
    "name": "ipython",
    "version": 3
   },
   "file_extension": ".py",
   "mimetype": "text/x-python",
   "name": "python",
   "nbconvert_exporter": "python",
   "pygments_lexer": "ipython3",
<<<<<<< HEAD
   "version": "3.7.0"
=======
   "version": "3.6.5"
>>>>>>> 95c9ce442c8372a22bea1bc981c5e11eba59095d
  }
 },
 "nbformat": 4,
 "nbformat_minor": 2
}
